{
 "cells": [
  {
   "cell_type": "code",
   "execution_count": 8,
   "metadata": {},
   "outputs": [],
   "source": [
    "def sys_path_append(path):\n",
    "    import sys\n",
    "    if path not in sys.path:\n",
    "        sys.path.append(path)\n",
    "\n",
    "sys_path_append('../source')\n",
    "sys_path_append('../utilities')\n",
    "\n",
    "from common_imports import set_num_threads\n",
    "set_num_threads(2) # Set the number of cores. Must be executed before importing numpy&numba\n",
    "\n",
    "import rbm\n",
    "import RNA_utils\n",
    "import numpy"
   ]
  },
  {
   "cell_type": "code",
   "execution_count": 9,
   "metadata": {},
   "outputs": [],
   "source": [
    "all_data, all_labels = RNA_utils.load_RNA_MSA('../data/RF00162_trimmed.fasta', with_labels = True)\n",
    "# discard sequences with strange letters\n",
    "all_labels = all_labels[numpy.invert((all_data == 5).any(axis=1))]\n",
    "all_data = all_data[numpy.invert((all_data == 5).any(axis=1))]"
   ]
  },
  {
   "cell_type": "code",
   "execution_count": 14,
   "metadata": {},
   "outputs": [],
   "source": [
    "def train_test_split(data, frac=0.8, shuffle=True):\n",
    "    i = round(frac * len(data))\n",
    "    if shuffle:\n",
    "        p = numpy.random.permutation(len(data))\n",
    "        data_ = data[p]\n",
    "    else:\n",
    "        data_ = data\n",
    "    train_data, tests_data = data_[:i], data_[i:]\n",
    "    return train_data, tests_data"
   ]
  },
  {
   "cell_type": "code",
   "execution_count": 15,
   "metadata": {},
   "outputs": [],
   "source": [
    "train_data, tests_data = train_test_split(all_data)"
   ]
  },
  {
   "cell_type": "code",
   "execution_count": 16,
   "metadata": {},
   "outputs": [
    {
     "name": "stdout",
     "output_type": "stream",
     "text": [
      "Iteration number 0, pseudo-likelihood: -0.81\n",
      "Starting epoch 1\n",
      "[RBM] Iteration 1, time = 7.05s, pseudo-likelihood = -0.62\n",
      "Starting epoch 2\n",
      "[RBM] Iteration 2, time = 7.49s, pseudo-likelihood = -0.57\n",
      "Starting epoch 3\n",
      "[RBM] Iteration 3, time = 6.96s, pseudo-likelihood = -0.53\n",
      "Starting epoch 4\n",
      "[RBM] Iteration 4, time = 7.51s, pseudo-likelihood = -0.51\n",
      "Starting epoch 5\n",
      "[RBM] Iteration 5, time = 6.32s, pseudo-likelihood = -0.50\n",
      "Starting epoch 6\n"
     ]
    }
   ],
   "source": [
    "RBM = rbm.RBM(n_v=108, n_cv=5, n_h=100, visible='Potts', hidden='dReLU')\n",
    "record = RBM.fit(train_data, n_iter=400, batch_size=256, N_MC=5, verbose=1, l2_fields=1e-3, l1b=0.01, \n",
    "                 record=['PL', 'PL_test'], record_interval=1, data_test=tests_data)"
   ]
  },
  {
   "cell_type": "code",
   "execution_count": null,
   "metadata": {},
   "outputs": [],
   "source": [
    "# Since training takes a long time, we can just load a pre-trained model\n",
    "with open('../data/RBM_nh_100_l1b_0.01.pickle', 'rb') as file:\n",
    "    RBMdict = pickle.load(file)\n",
    "RBM = RBMdict['RBM']\n",
    "record = RBMdict['record']"
   ]
  }
 ],
 "metadata": {
  "kernelspec": {
   "display_name": "default",
   "language": "python",
   "name": "python3"
  },
  "language_info": {
   "codemirror_mode": {
    "name": "ipython",
    "version": 3
   },
   "file_extension": ".py",
   "mimetype": "text/x-python",
   "name": "python",
   "nbconvert_exporter": "python",
   "pygments_lexer": "ipython3",
   "version": "3.12.4"
  }
 },
 "nbformat": 4,
 "nbformat_minor": 2
}
