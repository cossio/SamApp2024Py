{
 "cells": [
  {
   "cell_type": "code",
   "execution_count": 1,
   "metadata": {},
   "outputs": [],
   "source": [
    "def sys_path_append(path):\n",
    "    import sys\n",
    "    if path not in sys.path:\n",
    "        sys.path.append(path)\n",
    "\n",
    "sys_path_append('../source')\n",
    "sys_path_append('../utilities')\n",
    "\n",
    "from common_imports import set_num_threads\n",
    "set_num_threads(2) # Set the number of cores. Must be executed before importing numpy&numba\n",
    "\n",
    "import rbm"
   ]
  },
  {
   "cell_type": "code",
   "execution_count": null,
   "metadata": {},
   "outputs": [],
   "source": [
    "import sys\n",
    "sys.path.append('PGM/source/')\n",
    "sys.path.append('PGM/utilities/')\n",
    "from common_imports import set_num_threads\n",
    "set_num_threads(2) # Set the number of cores. Must be executed before importing numpy&numba\n",
    "\n",
    "from scipy.special import expit\n",
    "import copy, pickle, scipy, numpy as np, pandas as pd, matplotlib.pyplot as plt, seaborn as sns\n",
    "from sklearn.metrics import log_loss\n",
    "import torch, torch.nn as nn, torch.nn.functional as F, torch.optim as optim\n",
    "from torchvision.utils import make_grid, save_image\n",
    "from PIL import Image\n",
    "\n",
    "import rbm, utilities, RBM_utils, dataset_utils, Proteins_utils, moi, RNA_utils, RNA_sequence_logo, RNA_plots_utils\n",
    "from float_precision import curr_float, curr_int\n",
    "\n",
    "import h5py\n",
    "\n",
    "%matplotlib inline"
   ]
  },
  {
   "cell_type": "code",
   "execution_count": null,
   "metadata": {},
   "outputs": [],
   "source": [
    "RBM = rbm.RBM(n_v=108, n_cv=5, n_h=100, visible='Potts', hidden='dReLU')\n",
    "record = RBM.fit(train_data, n_iter=400, batch_size=256, N_MC=5, verbose=1, l2_fields=1e-3, l1b=0.01, \n",
    "                 record=['PL', 'PL_test'], record_interval=1, data_test=tests_data)"
   ]
  }
 ],
 "metadata": {
  "kernelspec": {
   "display_name": "default",
   "language": "python",
   "name": "python3"
  },
  "language_info": {
   "codemirror_mode": {
    "name": "ipython",
    "version": 3
   },
   "file_extension": ".py",
   "mimetype": "text/x-python",
   "name": "python",
   "nbconvert_exporter": "python",
   "pygments_lexer": "ipython3",
   "version": "3.12.4"
  }
 },
 "nbformat": 4,
 "nbformat_minor": 2
}
